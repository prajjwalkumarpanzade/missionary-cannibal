{
 "cells": [
  {
   "cell_type": "code",
   "execution_count": null,
   "id": "dbdeee71-03f3-413e-89be-32114a84ec26",
   "metadata": {},
   "outputs": [
    {
     "name": "stdout",
     "output_type": "stream",
     "text": [
      "  |🚢🌊🌊🌊🌊🌊| 💂💂💂 👹👹👹\n"
     ]
    }
   ],
   "source": [
    "from IPython.display import clear_output\n",
    "boat_side = 'Right' \n",
    "missionaries_on_right = 3\n",
    "cannibals_on_right = 3\n",
    "missionaries_on_left = 0\n",
    "cannibals_on_left = 0\n",
    "print('💂' *missionaries_on_left,  '👹'*cannibals_on_left, '|🌊🌊🌊🌊🌊🚢|' , '💂' *missionaries_on_right ,'👹' *cannibals_on_right)\n",
    "\n",
    "while True:\n",
    "  missionaries = int(input(\"Enter missionaries 💂 : \"))\n",
    "  cannibals = int(input(\"Enter cannibals 👹 : \"))\n",
    "  clear_output(wait = True)\n",
    "\n",
    "\n",
    "  if(missionaries + cannibals > 2):\n",
    "    print(\"Invalid move 1\")\n",
    "    continue\n",
    "\n",
    "\n",
    "  if(boat_side == \"Right\"):\n",
    "    # print(\"Boat is on Right side\")\n",
    "\n",
    "\n",
    "\n",
    "    if(missionaries > missionaries_on_right) or (cannibals > cannibals_on_right):\n",
    "      print(\"Invalid Move 2\")\n",
    "      continue\n",
    "\n",
    "    missionaries_on_right = missionaries_on_right - missionaries\n",
    "    cannibals_on_right = cannibals_on_right - cannibals\n",
    "\n",
    "    missionaries_on_left = missionaries_on_left + missionaries\n",
    "    cannibals_on_left = cannibals_on_left + cannibals\n",
    "    boat_side = \"Left\"\n",
    "    print('💂' *missionaries_on_left,  '👹'*cannibals_on_left, '|🚢🌊🌊🌊🌊🌊|' , '💂' *missionaries_on_right ,'👹' *cannibals_on_right)\n",
    "    \n",
    "\n",
    "  elif(boat_side == \"Left\"):\n",
    "    \n",
    "  \n",
    "  \n",
    "  \n",
    "    if((cannibals > cannibals_on_left) or (missionaries > missionaries_on_left)):\n",
    "      print(\"Invalid move 2\")\n",
    "      continue\n",
    "\n",
    "  \n",
    "    missionaries_on_left = missionaries_on_left - missionaries\n",
    "    cannibals_on_left = cannibals_on_left - cannibals\n",
    "    missionaries_on_right = missionaries_on_right + missionaries\n",
    "    cannibals_on_right = cannibals_on_right + cannibals\n",
    "    boat_side = \"Right\"\n",
    "    print('💂' *missionaries_on_left,  '👹'*cannibals_on_left, '|🌊🌊🌊🌊🌊🚢|' , '💂' *missionaries_on_right ,'👹' *cannibals_on_right)\n",
    "\n",
    "  \n",
    "  if(missionaries_on_right < cannibals_on_right) and (missionaries_on_right > 0):\n",
    "   print(\"YOU LOSE\")\n",
    "   break\n",
    "  \n",
    "  if(missionaries_on_left < cannibals_on_left) and (missionaries_on_left > 0):\n",
    "    print(\"YOU LOSE\")\n",
    "    break\n",
    "  \n",
    "  if(missionaries_on_left == 3) and (cannibals_on_left == 3):\n",
    "    print(\"YOU WON\")\n",
    "    break"
   ]
  },
  {
   "cell_type": "code",
   "execution_count": null,
   "id": "a29498c7-66c0-47fe-a557-2b24344ec194",
   "metadata": {},
   "outputs": [],
   "source": []
  }
 ],
 "metadata": {
  "kernelspec": {
   "display_name": "Python 3 (ipykernel)",
   "language": "python",
   "name": "python3"
  },
  "language_info": {
   "codemirror_mode": {
    "name": "ipython",
    "version": 3
   },
   "file_extension": ".py",
   "mimetype": "text/x-python",
   "name": "python",
   "nbconvert_exporter": "python",
   "pygments_lexer": "ipython3",
   "version": "3.8.4"
  }
 },
 "nbformat": 4,
 "nbformat_minor": 5
}
